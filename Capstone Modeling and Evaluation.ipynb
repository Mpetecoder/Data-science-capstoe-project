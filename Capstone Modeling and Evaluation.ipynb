{
 "cells": [
  {
   "cell_type": "markdown",
   "id": "c98e7043",
   "metadata": {},
   "source": [
    "# Section 1: Load Cleaned Data\n"
   ]
  },
  {
   "cell_type": "code",
   "execution_count": 1,
   "id": "6c19cb12",
   "metadata": {},
   "outputs": [
    {
     "name": "stdout",
     "output_type": "stream",
     "text": [
      "X shape: (32561, 97)\n",
      "y value counts:\n",
      " income\n",
      "<=50K    24720\n",
      ">50K      7841\n",
      "Name: count, dtype: int64\n"
     ]
    }
   ],
   "source": [
    "import pandas as pd\n",
    "\n",
    "# Load cleaned data\n",
    "df_model = pd.read_csv(\"adult_clean_census_data.csv\")\n",
    "\n",
    "# Separate features and target again\n",
    "X = df_model.drop('income', axis=1)\n",
    "y = df_model['income']\n",
    "\n",
    "# Check shapes\n",
    "print(\"X shape:\", X.shape)\n",
    "print(\"y value counts:\\n\", y.value_counts())\n"
   ]
  },
  {
   "cell_type": "markdown",
   "id": "bff1b650",
   "metadata": {},
   "source": [
    "I have loaded the fully preprocessed dataset created during EDA and feature selection. This dataset has 97 features, all numeric, and a binary income target variable (`<=50K` or `>50K`)."
   ]
  },
  {
   "cell_type": "markdown",
   "id": "b4bcddf1",
   "metadata": {},
   "source": [
    "# Section 2: Train-Test Split\n"
   ]
  },
  {
   "cell_type": "code",
   "execution_count": 2,
   "id": "31282cb5",
   "metadata": {},
   "outputs": [
    {
     "name": "stdout",
     "output_type": "stream",
     "text": [
      "Training shape: (26048, 97)\n",
      "Testing shape: (6513, 97)\n"
     ]
    }
   ],
   "source": [
    "from sklearn.model_selection import train_test_split\n",
    "\n",
    "X_train, X_test, y_train, y_test = train_test_split(\n",
    "    X, y, test_size=0.2, stratify=y, random_state=42\n",
    ")\n",
    "\n",
    "print(\"Training shape:\", X_train.shape)\n",
    "print(\"Testing shape:\", X_test.shape)\n"
   ]
  },
  {
   "cell_type": "markdown",
   "id": "1a89e636",
   "metadata": {},
   "source": [
    "I split the dataset into training (80%) and testing (20%) sets. To keep the income distribution consistent across both sets, I used stratified sampling. This helps ensure fair and reliable model training and evaluation."
   ]
  },
  {
   "cell_type": "markdown",
   "id": "1c74e23a",
   "metadata": {},
   "source": [
    "# Section 3: Model Training & Evaluation\n"
   ]
  },
  {
   "cell_type": "markdown",
   "id": "2d10924f",
   "metadata": {},
   "source": [
    "## 3a. Decision Tree\n",
    "\n",
    "I trained a Decision Tree classifier using the default parameters. Below are the confusion matrix and classification report, showing precision, recall, and F1-score for both income classes."
   ]
  },
  {
   "cell_type": "code",
   "execution_count": 3,
   "id": "f220948b",
   "metadata": {},
   "outputs": [
    {
     "name": "stdout",
     "output_type": "stream",
     "text": [
      "Confusion Matrix:\n",
      "[[4311  634]\n",
      " [ 574  994]]\n",
      "\n",
      "Classification Report:\n",
      "              precision    recall  f1-score   support\n",
      "\n",
      "       <=50K       0.88      0.87      0.88      4945\n",
      "        >50K       0.61      0.63      0.62      1568\n",
      "\n",
      "    accuracy                           0.81      6513\n",
      "   macro avg       0.75      0.75      0.75      6513\n",
      "weighted avg       0.82      0.81      0.82      6513\n",
      "\n"
     ]
    }
   ],
   "source": [
    "from sklearn.tree import DecisionTreeClassifier\n",
    "from sklearn.metrics import classification_report, confusion_matrix\n",
    "\n",
    "# Train the Decision Tree\n",
    "dt_model = DecisionTreeClassifier(random_state=42)\n",
    "dt_model.fit(X_train, y_train)\n",
    "\n",
    "# Predict\n",
    "y_pred_dt = dt_model.predict(X_test)\n",
    "\n",
    "# Evaluate\n",
    "print(\"Confusion Matrix:\")\n",
    "print(confusion_matrix(y_test, y_pred_dt))\n",
    "\n",
    "print(\"\\nClassification Report:\")\n",
    "print(classification_report(y_test, y_pred_dt))\n"
   ]
  },
  {
   "cell_type": "markdown",
   "id": "ddd6c510",
   "metadata": {},
   "source": [
    " The Decision Tree model achieved an overall accuracy of 81%. It did well on the majority class (<=50K), with both precision and recall around 88%. However, it struggled with the minority class (>50K), reaching only 61% precision and 63% recall. This suggests the model tends to favor predictions toward the majority class.\n",
    "\n",
    " To improve its performance on the minority group, I could try using class weights to penalize misclassification, apply SMOTE to balance the training data, or tune the tree’s depth and splitting criteria to reduce overfitting. These adjustments might help boost recall and precision for the >50K class."
   ]
  },
  {
   "cell_type": "markdown",
   "id": "19c21cba",
   "metadata": {},
   "source": [
    "## 3b. Naive Bayes\n",
    "I trained a Gaussian Naive Bayes classifier. While it assumes independence between features, it can still perform well on large, sparse datasets like this one. Below are the confusion matrix and performance metrics for each income class."
   ]
  },
  {
   "cell_type": "code",
   "execution_count": 4,
   "id": "d20589d7",
   "metadata": {},
   "outputs": [
    {
     "name": "stdout",
     "output_type": "stream",
     "text": [
      "Confusion Matrix:\n",
      "[[4708  237]\n",
      " [1070  498]]\n",
      "\n",
      "Classification Report:\n",
      "              precision    recall  f1-score   support\n",
      "\n",
      "       <=50K       0.81      0.95      0.88      4945\n",
      "        >50K       0.68      0.32      0.43      1568\n",
      "\n",
      "    accuracy                           0.80      6513\n",
      "   macro avg       0.75      0.63      0.66      6513\n",
      "weighted avg       0.78      0.80      0.77      6513\n",
      "\n"
     ]
    }
   ],
   "source": [
    "from sklearn.naive_bayes import GaussianNB\n",
    "\n",
    "# Train Naive Bayes\n",
    "nb_model = GaussianNB()\n",
    "nb_model.fit(X_train, y_train)\n",
    "\n",
    "# Predict\n",
    "y_pred_nb = nb_model.predict(X_test)\n",
    "\n",
    "# Evaluate\n",
    "print(\"Confusion Matrix:\")\n",
    "print(confusion_matrix(y_test, y_pred_nb))\n",
    "\n",
    "print(\"\\nClassification Report:\")\n",
    "print(classification_report(y_test, y_pred_nb))\n"
   ]
  },
  {
   "cell_type": "markdown",
   "id": "cfceec76",
   "metadata": {},
   "source": [
    "The Naive Bayes model reached an overall accuracy of 80%, just a bit below the Decision Tree. It did really well on the <=50K class, with 95% recall so it was great at spotting low-income individuals. But performance on the >50K class was much weaker, with only 32% recall and 68% precision. In other words, it missed a lot of high income cases, though the ones it did catch were usually correct. To improve the results, I could try removing irrelevant or correlated features since Naive Bayes assumes independence between inputs or explore alternative versions like BernoulliNB or MultinomialNB depending on the data. Model calibration might also help by fine tuning the decision threshold to better handle class imbalance."
   ]
  },
  {
   "cell_type": "markdown",
   "id": "f124a0fd",
   "metadata": {},
   "source": [
    "## 3c. K-Nearest Neighbors (KNN)\n",
    "I trained a K-Nearest Neighbors classifier with k=5. KNN makes predictions by having each test point \"vote\" among its 5 nearest neighbors in the training set. While it’s a simple, nonparametric model, KNN can struggle when the data is high dimensional or imbalanced. The results below show how it performed on the income classification task."
   ]
  },
  {
   "cell_type": "code",
   "execution_count": 7,
   "id": "a54dc6ff",
   "metadata": {},
   "outputs": [],
   "source": [
    "import numpy as np\n",
    "\n",
    "# Convert to NumPy arrays to avoid KNN compatibility issues\n",
    "X_train_knn = X_train.to_numpy()\n",
    "X_test_knn = X_test.to_numpy()\n"
   ]
  },
  {
   "cell_type": "code",
   "execution_count": 8,
   "id": "a9cece38",
   "metadata": {},
   "outputs": [
    {
     "name": "stdout",
     "output_type": "stream",
     "text": [
      "Confusion Matrix:\n",
      "[[4570  375]\n",
      " [1043  525]]\n",
      "\n",
      "Classification Report:\n",
      "              precision    recall  f1-score   support\n",
      "\n",
      "       <=50K       0.81      0.92      0.87      4945\n",
      "        >50K       0.58      0.33      0.43      1568\n",
      "\n",
      "    accuracy                           0.78      6513\n",
      "   macro avg       0.70      0.63      0.65      6513\n",
      "weighted avg       0.76      0.78      0.76      6513\n",
      "\n"
     ]
    }
   ],
   "source": [
    "from sklearn.neighbors import KNeighborsClassifier\n",
    "\n",
    "knn_model = KNeighborsClassifier(n_neighbors=5)\n",
    "knn_model.fit(X_train_knn, y_train)\n",
    "\n",
    "y_pred_knn = knn_model.predict(X_test_knn)\n",
    "\n",
    "print(\"Confusion Matrix:\")\n",
    "print(confusion_matrix(y_test, y_pred_knn))\n",
    "\n",
    "print(\"\\nClassification Report:\")\n",
    "print(classification_report(y_test, y_pred_knn))"
   ]
  },
  {
   "cell_type": "markdown",
   "id": "cc6c96bd",
   "metadata": {},
   "source": [
    "The KNN model reached an overall accuracy of 78%, which was a bit lower than both the Decision Tree and Naive Bayes. It handled the majority class (<=50K) fairly well with 92% recall, but really struggled on the minority class (>50K), with just 33% recall and 58% precision. This drop in performance likely came from a few factors: KNN’s sensitivity to class imbalance, the high dimensional space created by one-hot encoding, and the lack of feature scaling which is a big deal for distance-based models like KNN. To improve the results, I could apply feature scaling (like with StandardScaler), tune the number of neighbors (k), or try dimensionality reduction techniques like PCA or t-SNE to cut down on noise."
   ]
  },
  {
   "cell_type": "code",
   "execution_count": 10,
   "id": "58d848f0",
   "metadata": {},
   "outputs": [
    {
     "name": "stdout",
     "output_type": "stream",
     "text": [
      "Confusion Matrix (KNN with Scaling):\n",
      "[[4459  486]\n",
      " [ 646  922]]\n",
      "\n",
      "Classification Report:\n",
      "              precision    recall  f1-score   support\n",
      "\n",
      "       <=50K       0.87      0.90      0.89      4945\n",
      "        >50K       0.65      0.59      0.62      1568\n",
      "\n",
      "    accuracy                           0.83      6513\n",
      "   macro avg       0.76      0.74      0.75      6513\n",
      "weighted avg       0.82      0.83      0.82      6513\n",
      "\n"
     ]
    }
   ],
   "source": [
    "from sklearn.preprocessing import StandardScaler\n",
    "\n",
    "\n",
    "scaler = StandardScaler()\n",
    "X_train_scaled = scaler.fit_transform(X_train)\n",
    "X_test_scaled = scaler.transform(X_test)\n",
    "\n",
    "knn_scaled = KNeighborsClassifier(n_neighbors=5)\n",
    "knn_scaled.fit(X_train_scaled, y_train)\n",
    "\n",
    "y_pred_knn_scaled = knn_scaled.predict(X_test_scaled)\n",
    "\n",
    "print(\"Confusion Matrix (KNN with Scaling):\")\n",
    "print(confusion_matrix(y_test, y_pred_knn_scaled))\n",
    "\n",
    "print(\"\\nClassification Report:\")\n",
    "print(classification_report(y_test, y_pred_knn_scaled))\n"
   ]
  },
  {
   "cell_type": "markdown",
   "id": "72216fb8",
   "metadata": {},
   "source": [
    "I initially trained KNN without scaling the features, which led to poor performance on the >50K class mainly because features like capital_gain had much larger values and skewed the distance calculations. After applying StandardScaler to normalize everything, the results improved a lot: accuracy jumped from 78% to 83%, recall for the >50K class went from 33% to 59%, and precision increased from 58% to 65%. This really showed how important scaling is for distance-based models like KNN, especially when working with a mix of binary and continuous features."
   ]
  },
  {
   "cell_type": "markdown",
   "id": "4d146c2c",
   "metadata": {},
   "source": [
    "## 3d. Logistic Regression\n",
    "I trained a Logistic Regression model using scaled features. Since it estimates the probability of someone earning >50K, it’s a solid choice for binary classification tasks like this one. The performance metrics and confusion matrix below show how well the model handled the income prediction."
   ]
  },
  {
   "cell_type": "code",
   "execution_count": 11,
   "id": "bfbf44f8",
   "metadata": {},
   "outputs": [
    {
     "name": "stdout",
     "output_type": "stream",
     "text": [
      "Confusion Matrix (Logistic Regression):\n",
      "[[4600  345]\n",
      " [ 603  965]]\n",
      "\n",
      "Classification Report:\n",
      "              precision    recall  f1-score   support\n",
      "\n",
      "       <=50K       0.88      0.93      0.91      4945\n",
      "        >50K       0.74      0.62      0.67      1568\n",
      "\n",
      "    accuracy                           0.85      6513\n",
      "   macro avg       0.81      0.77      0.79      6513\n",
      "weighted avg       0.85      0.85      0.85      6513\n",
      "\n"
     ]
    }
   ],
   "source": [
    "from sklearn.linear_model import LogisticRegression\n",
    "\n",
    "log_model = LogisticRegression(max_iter=1000, random_state=42)\n",
    "log_model.fit(X_train_scaled, y_train)\n",
    "\n",
    "y_pred_log = log_model.predict(X_test_scaled)\n",
    "\n",
    "print(\"Confusion Matrix (Logistic Regression):\")\n",
    "print(confusion_matrix(y_test, y_pred_log))\n",
    "\n",
    "print(\"\\nClassification Report:\")\n",
    "print(classification_report(y_test, y_pred_log))\n"
   ]
  },
  {
   "cell_type": "markdown",
   "id": "94787048",
   "metadata": {},
   "source": [
    " The Logistic Regression model achieved 85% accuracy the highest so far. It performed strongly on the majority class (<=50K) with 93% recall and 88% precision. More importantly, it showed a big improvement on the minority class (>50K) compared to earlier models, with 74% precision, 62% recall, and a 67% F1-score. These results highlight how effective Logistic Regression can be when paired with proper feature scaling. It’s not just accurate overall it also does a much better job balancing performance across both income groups."
   ]
  },
  {
   "cell_type": "markdown",
   "id": "6215d893",
   "metadata": {},
   "source": [
    "## 3e. Support Vector Machine (SVM)\n",
    "I trained a Support Vector Machine using a linear kernel and scaled features. SVMs are great at handling high dimensional data and finding optimal decision boundaries, which makes them a good fit for this kind of task. The results below show how well it performed on the income classification problem."
   ]
  },
  {
   "cell_type": "code",
   "execution_count": 13,
   "id": "7c57c92b",
   "metadata": {},
   "outputs": [
    {
     "name": "stdout",
     "output_type": "stream",
     "text": [
      "Confusion Matrix (SVM):\n",
      "[[4637  308]\n",
      " [ 641  927]]\n",
      "\n",
      "Classification Report:\n",
      "              precision    recall  f1-score   support\n",
      "\n",
      "       <=50K       0.88      0.94      0.91      4945\n",
      "        >50K       0.75      0.59      0.66      1568\n",
      "\n",
      "    accuracy                           0.85      6513\n",
      "   macro avg       0.81      0.76      0.78      6513\n",
      "weighted avg       0.85      0.85      0.85      6513\n",
      "\n"
     ]
    }
   ],
   "source": [
    "from sklearn.svm import SVC\n",
    "from sklearn.metrics import confusion_matrix, classification_report\n",
    "\n",
    "svm_model = SVC(kernel='linear', random_state=42)\n",
    "svm_model.fit(X_train_scaled, y_train)\n",
    "\n",
    "y_pred_svm = svm_model.predict(X_test_scaled)\n",
    "\n",
    "print(\"Confusion Matrix (SVM):\")\n",
    "print(confusion_matrix(y_test, y_pred_svm))\n",
    "\n",
    "print(\"\\nClassification Report:\")\n",
    "print(classification_report(y_test, y_pred_svm))\n"
   ]
  },
  {
   "cell_type": "markdown",
   "id": "66ab7496",
   "metadata": {},
   "source": [
    "The Support Vector Machine reached 85% accuracy, matching the performance of Logistic Regression. It did especially well on the <=50K class, with 94% recall and 88% precision. For the >50K class, it hit 75% precision and 59% recall very close to what Logistic Regression achieved. Overall, SVM is a strong classifier for this task, particularly when features are properly scaled. That said, since it takes a bit longer to train and performs similarly to Logistic Regression, it may not offer a big enough boost to justify the extra complexity in some cases."
   ]
  },
  {
   "cell_type": "markdown",
   "id": "dc986fde",
   "metadata": {},
   "source": [
    "# Section 4: Model Comparison\n"
   ]
  },
  {
   "cell_type": "markdown",
   "id": "af661246",
   "metadata": {},
   "source": [
    "| Model               | Accuracy | >50K Precision | >50K Recall | >50K F1 |\n",
    "|---------------------|----------|----------------|-------------|---------|\n",
    "| Decision Tree       | 0.81     | 0.61           | 0.63        | 0.62    |\n",
    "| Naive Bayes         | 0.80     | 0.68           | 0.32        | 0.43    |\n",
    "| KNN (Unscaled)      | 0.78     | 0.58           | 0.33        | 0.43    |\n",
    "| KNN (Scaled)        | 0.83     | 0.65           | 0.59        | 0.62    |\n",
    "| Logistic Regression | 0.85     | 0.74           | 0.62        | 0.67    |\n",
    "| SVM (Scaled)        | 0.85     | 0.75           | 0.59        | 0.66    |\n"
   ]
  },
  {
   "cell_type": "markdown",
   "id": "ce75e736",
   "metadata": {},
   "source": [
    "Overall, Logistic Regression and Support Vector Machine delivered the best results, each reaching 85% accuracy with a solid balance between both income classes. Both models saw a big boost from feature scaling. KNN also improved a lot after scaling accuracy jumped from 78% to 83%, and its F1 score for the >50K class went up noticeably. Naive Bayes was quick and simple but struggled with recall on high-income individuals. The Decision Tree was easy to interpret but ended up being slightly less accurate than the others. Based on everything I tested, Logistic Regression stands out as the best overall option it’s straightforward, performs well, and trains quickly.\n"
   ]
  },
  {
   "cell_type": "markdown",
   "id": "a18dbb77",
   "metadata": {},
   "source": [
    "# Section 5: ROC Curve and AUC Comparison\n",
    "\n",
    "To get a visual sense of how well the models performed, I plotted ROC curves for Logistic Regression, SVM, and KNN. The AUC (Area Under the Curve) gives a good measure of how well each model separates the income classes. AUC values closer to 1.0 mean better performance. Logistic Regression and SVM came out on top with the highest AUC scores, while KNN though it improved with scaling still lagged a bit behind the linear models."
   ]
  },
  {
   "cell_type": "markdown",
   "id": "6e990f7a",
   "metadata": {},
   "source": [
    "### Step 1: Import and Set Up"
   ]
  },
  {
   "cell_type": "code",
   "execution_count": 17,
   "id": "ff310465",
   "metadata": {},
   "outputs": [],
   "source": [
    "from sklearn.metrics import roc_curve, auc, RocCurveDisplay\n",
    "import matplotlib.pyplot as plt"
   ]
  },
  {
   "cell_type": "markdown",
   "id": "29f2fdb2",
   "metadata": {},
   "source": [
    "### Step 2: Get ROC Data for Each Model"
   ]
  },
  {
   "cell_type": "code",
   "execution_count": 20,
   "id": "3211d9c9",
   "metadata": {},
   "outputs": [],
   "source": [
    "y_train_bin = y_train.map({'<=50K': 0, '>50K': 1})\n",
    "y_test_bin = y_test.map({'<=50K': 0, '>50K': 1})\n"
   ]
  },
  {
   "cell_type": "code",
   "execution_count": 21,
   "id": "752295a7",
   "metadata": {},
   "outputs": [],
   "source": [
    "# Logistic Regression\n",
    "y_score_log = log_model.predict_proba(X_test_scaled)[:, 1]\n",
    "fpr_log, tpr_log, _ = roc_curve(y_test_bin, y_score_log)\n",
    "roc_auc_log = auc(fpr_log, tpr_log)\n",
    "\n",
    "# SVM \n",
    "svm_model_prob = SVC(kernel='linear', probability=True, random_state=42)\n",
    "svm_model_prob.fit(X_train_scaled, y_train)\n",
    "y_score_svm = svm_model_prob.predict_proba(X_test_scaled)[:, 1]\n",
    "fpr_svm, tpr_svm, _ = roc_curve(y_test_bin, y_score_svm)\n",
    "roc_auc_svm = auc(fpr_svm, tpr_svm)\n",
    "\n",
    "# KNN \n",
    "y_score_knn = knn_scaled.predict_proba(X_test_scaled)[:, 1]\n",
    "fpr_knn, tpr_knn, _ = roc_curve(y_test_bin, y_score_knn)\n",
    "roc_auc_knn = auc(fpr_knn, tpr_knn)\n"
   ]
  },
  {
   "cell_type": "code",
   "execution_count": 22,
   "id": "3ff197fe",
   "metadata": {},
   "outputs": [
    {
     "data": {
      "image/png": "[encoded data removed]",
      "text/plain": [
       "<Figure size 800x600 with 1 Axes>"
      ]
     },
     "metadata": {},
     "output_type": "display_data"
    }
   ],
   "source": [
    "plt.figure(figsize=(8, 6))\n",
    "plt.plot(fpr_log, tpr_log, label=f'Logistic Regression (AUC = {roc_auc_log:.2f})')\n",
    "plt.plot(fpr_svm, tpr_svm, label=f'SVM (AUC = {roc_auc_svm:.2f})')\n",
    "plt.plot(fpr_knn, tpr_knn, label=f'KNN (AUC = {roc_auc_knn:.2f})')\n",
    "\n",
    "# Reference line\n",
    "plt.plot([0, 1], [0, 1], 'k--')\n",
    "\n",
    "plt.title('ROC Curve Comparison')\n",
    "plt.xlabel('False Positive Rate')\n",
    "plt.ylabel('True Positive Rate')\n",
    "plt.legend(loc='lower right')\n",
    "plt.grid(True)\n",
    "plt.tight_layout()\n",
    "plt.show()\n"
   ]
  },
  {
   "cell_type": "markdown",
   "id": "ab847079",
   "metadata": {},
   "source": [
    "To compare model performance visually, I plotted ROC curves for Logistic Regression, Support Vector Machine (SVM), and K-Nearest Neighbors (KNN). I focused on these three because they use probability or distance-based decision boundaries, which make AUC a meaningful way to evaluate them. I left out Decision Trees and Naive Bayes since they either don’t provide smooth probability estimates or didn’t perform as well in earlier metrics. The ROC curves show how each model balances true positive rate (recall) against false positive rate, with the AUC score reflecting how well the model separates the >50K and <=50K income groups. Logistic Regression had the highest AUC at 0.91, followed by SVM at 0.90 and KNN at 0.85. All three clearly outperformed the random baseline, and both Logistic Regression and SVM showed a great balance of precision, recall, and probability calibration making them especially strong candidates for this classification task."
   ]
  },
  {
   "cell_type": "markdown",
   "id": "fa6d3a63",
   "metadata": {},
   "source": [
    "# Section 6: Final Conclusion & Model Recommendation"
   ]
  },
  {
   "cell_type": "markdown",
   "id": "1346f62b",
   "metadata": {},
   "source": [
    "This project focused on predicting whether someone earns more than $50K per year using data from the U.S. Census. My goal was to build a reliable and easy to interpret classification model that could tell high income and low income individuals apart based on a range of demographic and occupational features.\n",
    "\n",
    "I started with data exploration and cleaning. The dataset (adult.data) had 32,561 records and 14 input features, a mix of numeric variables like age, hours_per_week, and capital_gain, and categorical ones like education, occupation, and native_country. I identified and handled missing values mostly those labeled \"?\" and cleaned everything up so the data was ready for modeling. For exploratory data analysis (EDA), I used Seaborn to visualize how income was distributed across key variables. The plots uncovered several trends, like higher income being linked to advanced education, full-time work in certain sectors, and noticeable gender gaps. I also used a correlation heatmap for numeric features and created summaries for the categorical ones to see which variables were most tied to income.\n",
    "\n",
    "From there, I moved into feature selection. I used both the Chi-Square test and Mutual Information to figure out which features were most useful. Variables like education_num, age, hours_per_week, and marital_status consistently showed strong predictive value. After one-hot encoding the categorical features, the dataset expanded from 14 to 97 columns all numeric and ready for modeling. I split the data into training and test sets, scaled the numeric features using StandardScaler (which helped a lot for distance-based models), and prepped everything for classification.\n",
    "\n",
    "I trained and evaluated six models: Decision Tree, Naive Bayes, K-Nearest Neighbors (KNN, with and without scaling), Logistic Regression, and Support Vector Machine (SVM). I evaluated each using accuracy, precision, recall, and F1 score, with extra attention on recall for the >50K class since the dataset is imbalanced (~76% earn <=50K, 24% earn >50K).\n",
    "\n",
    "    Decision Tree reached 81% accuracy but didn’t perform well on high-income recall or precision.\n",
    "\n",
    "    Naive Bayes had decent precision (68%) but poor recall (32%)—missing a lot of actual high earners.\n",
    "\n",
    "    KNN struggled without scaling, but after scaling, recall for >50K jumped from 33% to 59%, and accuracy went up to 83%.\n",
    "\n",
    "    Logistic Regression and SVM were the top performers, both hitting 85% accuracy. They also had the most balanced precision and recall around 74–75% precision and 59–62% recall.\n",
    "\n",
    "To back up those results, I plotted ROC curves and calculated AUC scores. Logistic Regression came out on top with an AUC of 0.91, followed by SVM at 0.90, and scaled KNN at 0.85. These results confirmed that the best models were doing a solid job separating income groups, with Logistic Regression standing out for both performance and interpretability.\n",
    "\n",
    "Based on everything I tested, Logistic Regression is my top recommendation. It delivers strong, balanced results, is easier to explain and deploy, and doesn't require as much compute as SVM or KNN. It’s a great fit for identifying high income individuals without creating a flood of false positives.\n",
    "\n",
    "For future improvements, I’d consider:\n",
    "\n",
    "    Balancing the dataset using oversampling methods like SMOTE\n",
    "\n",
    "    Doing hyperparameter tuning with grid search\n",
    "\n",
    "    Trying ensemble methods like Random Forest or Gradient Boosting\n",
    "\n",
    "    Using PCA to reduce dimensionality and possibly speed things up\n",
    "\n",
    "Overall, this project really showed how important each step is from cleaning and exploring the data to selecting the right features and evaluating models properly. Being thoughtful at each stage helped me build a classification model that’s both accurate and easy to interpret in a real world setting."
   ]
  },
  {
   "cell_type": "code",
   "execution_count": null,
   "id": "d902780c",
   "metadata": {},
   "outputs": [],
   "source": []
  }
 ],
 "metadata": {
  "kernelspec": {
   "display_name": "Python 3 (ipykernel)",
   "language": "python",
   "name": "python3"
  },
  "language_info": {
   "codemirror_mode": {
    "name": "ipython",
    "version": 3
   },
   "file_extension": ".py",
   "mimetype": "text/x-python",
   "name": "python",
   "nbconvert_exporter": "python",
   "pygments_lexer": "ipython3",
   "version": "3.11.5"
  }
 },
 "nbformat": 4,
 "nbformat_minor": 5
}
