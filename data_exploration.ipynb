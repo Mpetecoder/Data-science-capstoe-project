{
 "cells": [
  {
   "cell_type": "code",
   "execution_count": 1,
   "id": "3ff49c29",
   "metadata": {},
   "outputs": [
    {
     "name": "stdout",
     "output_type": "stream",
     "text": [
      "   target          id                          date      flag  \\\n",
      "0       0  1467810369  Mon Apr 06 22:19:45 PDT 2009  NO_QUERY   \n",
      "1       0  1467810672  Mon Apr 06 22:19:49 PDT 2009  NO_QUERY   \n",
      "2       0  1467810917  Mon Apr 06 22:19:53 PDT 2009  NO_QUERY   \n",
      "3       0  1467811184  Mon Apr 06 22:19:57 PDT 2009  NO_QUERY   \n",
      "4       0  1467811193  Mon Apr 06 22:19:57 PDT 2009  NO_QUERY   \n",
      "\n",
      "              user                                               text  \n",
      "0  _TheSpecialOne_  @switchfoot http://twitpic.com/2y1zl - Awww, t...  \n",
      "1    scotthamilton  is upset that he can't update his Facebook by ...  \n",
      "2         mattycus  @Kenichan I dived many times for the ball. Man...  \n",
      "3          ElleCTF    my whole body feels itchy and like its on fire   \n",
      "4           Karoli  @nationwideclass no, it's not behaving at all....  \n"
     ]
    }
   ],
   "source": [
    "import pandas as pd\n",
    "\n",
    "# Path to your dataset\n",
    "file_path = \"training.1600000.processed.noemoticon.csv\"\n",
    "\n",
    "# Load the dataset\n",
    "columns = [\"target\", \"id\", \"date\", \"flag\", \"user\", \"text\"]\n",
    "data = pd.read_csv(file_path, encoding=\"latin-1\", names=columns)\n",
    "\n",
    "# Preview the first 5 rows\n",
    "print(data.head())\n"
   ]
  },
  {
   "cell_type": "code",
   "execution_count": 2,
   "id": "00660336",
   "metadata": {},
   "outputs": [
    {
     "name": "stdout",
     "output_type": "stream",
     "text": [
      "                                                text sentiment\n",
      "0  @switchfoot http://twitpic.com/2y1zl - Awww, t...  negative\n",
      "1  is upset that he can't update his Facebook by ...  negative\n",
      "2  @Kenichan I dived many times for the ball. Man...  negative\n",
      "3    my whole body feels itchy and like its on fire   negative\n",
      "4  @nationwideclass no, it's not behaving at all....  negative\n"
     ]
    }
   ],
   "source": [
    "# the colums i want at the moment\n",
    "data = data[[\"target\", \"text\"]]\n",
    "\n",
    "# Rename target labels for readability\n",
    "data[\"sentiment\"] = data[\"target\"].map({0: \"negative\", 2: \"neutral\", 4: \"positive\"})\n",
    "\n",
    "# Drop the old target column\n",
    "data = data.drop(columns=[\"target\"])\n",
    "\n",
    "# Preview the cleaned data\n",
    "print(data.head())\n"
   ]
  },
  {
   "cell_type": "code",
   "execution_count": 3,
   "id": "6e4000dc",
   "metadata": {},
   "outputs": [
    {
     "data": {
      "image/png": "[encoded data removed]",
      "text/plain": [
       "<Figure size 640x480 with 1 Axes>"
      ]
     },
     "metadata": {},
     "output_type": "display_data"
    }
   ],
   "source": [
    "# visulzation of my data\n",
    "import matplotlib.pyplot as plt\n",
    "\n",
    "# Count the sentiments\n",
    "sentiment_counts = data[\"sentiment\"].value_counts()\n",
    "\n",
    "# Plot the distribution\n",
    "sentiment_counts.plot(kind=\"bar\", color=[\"red\", \"gray\", \"green\"])\n",
    "plt.title(\"Sentiment Distribution\")\n",
    "plt.xlabel(\"Sentiment\")\n",
    "plt.ylabel(\"Count\")\n",
    "plt.show()\n"
   ]
  },
  {
   "cell_type": "code",
   "execution_count": 11,
   "id": "07a8b290",
   "metadata": {},
   "outputs": [
    {
     "name": "stdout",
     "output_type": "stream",
     "text": [
      "  Column Name Data Type  Non-Null Count  Null Count  Unique Values Count  \\\n",
      "0  target       int64    1600000         0                 2               \n",
      "1      id       int64    1600000         0           1598315               \n",
      "2    date      object    1600000         0            774363               \n",
      "3    flag      object    1600000         0                 1               \n",
      "4    user      object    1600000         0            659775               \n",
      "5    text      object    1600000         0           1581466               \n",
      "\n",
      "  Sample Value                                        mean          \\\n",
      "0                                                  0  2.000000e+00   \n",
      "1                                         1467810369  1.998818e+09   \n",
      "2                       Mon Apr 06 22:19:45 PDT 2009           NaN   \n",
      "3                                           NO_QUERY           NaN   \n",
      "4                                    _TheSpecialOne_           NaN   \n",
      "5  @switchfoot http://twitpic.com/2y1zl - Awww, t...           NaN   \n",
      "\n",
      "   std           min           max           \n",
      "0  2.000001e+00  0.000000e+00  4.000000e+00  \n",
      "1  1.935761e+08  1.467810e+09  2.329206e+09  \n",
      "2           NaN           NaN           NaN  \n",
      "3           NaN           NaN           NaN  \n",
      "4           NaN           NaN           NaN  \n",
      "5           NaN           NaN           NaN  \n"
     ]
    }
   ],
   "source": [
    "#i create a data quality report because you said in class that it a good way to visulize data\n",
    "import pandas as pd\n",
    "\n",
    "# Load your dataset\n",
    "file_path = \"training.1600000.processed.noemoticon.csv\"\n",
    "columns = [\"target\", \"id\", \"date\", \"flag\", \"user\", \"text\"]\n",
    "data = pd.read_csv(file_path, encoding=\"latin-1\", names=columns)\n",
    "\n",
    "# Function to generate a data quality report\n",
    "def generate_data_quality_report(df):\n",
    "    report = pd.DataFrame({\n",
    "        \"Column Name\": df.columns,\n",
    "        \"Data Type\": df.dtypes.values,\n",
    "        \"Non-Null Count\": df.notnull().sum().values,\n",
    "        \"Null Count\": df.isnull().sum().values,\n",
    "        \"Unique Values Count\": df.nunique().values,\n",
    "        \"Sample Value\": [df[col].dropna().iloc[0] if df[col].notnull().any() else None for col in df.columns],\n",
    "    })\n",
    "    \n",
    "    # Add descriptive statistics for numeric columns\n",
    "    numeric_stats = df.describe().T[[\"mean\", \"std\", \"min\", \"max\"]]\n",
    "    report = report.merge(numeric_stats, left_on=\"Column Name\", right_index=True, how=\"left\")\n",
    "    \n",
    "    return report\n",
    "\n",
    "# Generate and display the report\n",
    "data_quality_report = generate_data_quality_report(data)\n",
    "print(data_quality_report)\n",
    "\n",
    "\n"
   ]
  },
  {
   "cell_type": "code",
   "execution_count": null,
   "id": "76d59b96",
   "metadata": {},
   "outputs": [],
   "source": []
  }
 ],
 "metadata": {
  "kernelspec": {
   "display_name": "Python 3 (ipykernel)",
   "language": "python",
   "name": "python3"
  },
  "language_info": {
   "codemirror_mode": {
    "name": "ipython",
    "version": 3
   },
   "file_extension": ".py",
   "mimetype": "text/x-python",
   "name": "python",
   "nbconvert_exporter": "python",
   "pygments_lexer": "ipython3",
   "version": "3.11.5"
  }
 },
 "nbformat": 4,
 "nbformat_minor": 5
}
